{
 "cells": [
  {
   "cell_type": "markdown",
   "id": "48fc6e76",
   "metadata": {},
   "source": [
    "# Medical Diagnosis Expert System – Cardiology\n",
    "\n",
    "This notebook demonstrates the behavior of an expert system developed for the medical specialty of **Cardiology**.  \n",
    "Using the `experta` library in Python, this system is capable of diagnosing 12 common heart conditions based on symptom patterns.\n",
    "\n",
    "Each simulated case below triggers a different diagnosis, allowing us to test the system’s inference capabilities.\n",
    "\n",
    "\n",
    "\n",
    "##  Team Members – Team 1\n",
    "\n",
    "- Víctor Ángel Martínez Vidaurri A01665456 \n",
    "- Alan Ulises Luna Hernández  A01424523\n",
    "- Ricardo Villareal Bazán  A01666859\n",
    "- Uziel Heredia Estrada  A01667072\n",
    "\n",
    "## Diseases and  Descriptions\n",
    "\n",
    "| Disease                     | Description |\n",
    "|----------------------------|-------------|\n",
    "| **Hypertension**           | Chronic condition where the force of the blood against artery walls is too high. It often develops over many years and can lead to serious health problems, such as heart attack, stroke, or kidney failure. |\n",
    "| **Heart Attack**           | Occurs when blood flow to a part of the heart is blocked, usually by a blood clot, causing damage to the heart muscle. It's a medical emergency that requires immediate attention. |\n",
    "| **Arrhythmia**             | A problem with the rate or rhythm of the heartbeat either too fast, too slow, or irregular. It can be harmless or life-threatening depending on the type and cause. |\n",
    "| **Heart Failure**          | A condition in which the heart can't pump enough blood to meet the body's needs. It can result from conditions that weaken or stiffen the heart, such as coronary artery disease or hypertension. |\n",
    "| **Coronary Artery Disease**| Caused by a buildup of plaque in the arteries that supply blood to the heart muscle. This reduces blood flow and increases the risk of heart attack and chest pain (angina). |\n",
    "| **Angina**                 | A symptom of coronary artery disease, angina is chest pain or discomfort due to reduced blood flow to the heart. It often feels like pressure or squeezing and can be triggered by physical exertion or stress. |\n",
    "| **Pericarditis**           | Inflammation of the pericardium, the thin sac-like membrane surrounding the heart. It can cause sharp chest pain and is often linked to infections, heart attacks, or autoimmune diseases. |\n",
    "| **Cardiomyopathy**         | A group of diseases that affect the heart muscle. It makes it harder for the heart to pump blood and can lead to heart failure, arrhythmias, or cardiac arrest. |\n",
    "| **Aortic Stenosis**        | A narrowing of the aortic valve opening that restricts blood flow from the heart to the body. Symptoms include chest pain, fainting, and shortness of breath during exertion. |\n",
    "| **Endocarditis**           | An infection of the inner lining of the heart chambers and valves. It can be life threatening and usually occurs when bacteria or other germs from another part of the body spread through the bloodstream. |\n",
    "| **Mitral Valve Prolapse**  | A condition in which the valve between the heart’s left atrium and left ventricle doesn't close properly, sometimes causing blood to leak backward. It may cause palpitations, chest pain, or dizziness. |\n",
    "| **Congenital Heart Defect**| Structural problems with the heart present from birth. They can affect the walls, valves, or blood vessels of the heart and may require surgery or lifelong care. |\n",
    "\n",
    "\n",
    "\n",
    "## Diseases and Symptoms\n",
    "\n",
    "| Disease                     | Key Symptoms |\n",
    "|----------------------------|--------------|\n",
    "| **Hypertension**           | Often asymptomatic; severe cases may cause headache, nausea, blurred vision, or nosebleeds. |\n",
    "| **Heart Attack**           | Chest pain, radiating pain, cold sweat, nausea, fatigue, shortness of breath. |\n",
    "| **Arrhythmia**             | Palpitations, dizziness, fainting, irregular heartbeat, shortness of breath. |\n",
    "| **Heart Failure**          | Shortness of breath, fatigue, swelling in legs/feet, irregular heartbeat. |\n",
    "| **Coronary Artery Disease**| Chest pain (angina), shortness of breath, fatigue during exertion. |\n",
    "| **Angina**                 | Chest pressure, radiating pain, discomfort like indigestion. |\n",
    "| **Pericarditis**           | Sharp chest pain, fever, fatigue, worse pain when lying down. |\n",
    "| **Cardiomyopathy**         | Shortness of breath, fatigue, swelling, irregular heartbeat. |\n",
    "| **Aortic Stenosis**        | Chest pain, fatigue, dizziness, shortness of breath. |\n",
    "| **Endocarditis**           | Fever, chills, joint/muscle pain, fatigue, heart murmur. |\n",
    "| **Mitral Valve Prolapse**  | Palpitations, chest discomfort, fatigue, dizziness or fainting. |\n",
    "| **Congenital Heart Defect**| Shortness of breath, fatigue, swelling, heart murmur. |\n",
    "\n",
    "##  Decision Tree\n",
    "\n",
    "```plaintext\n",
    "                               ┌─────────────────────────────┐\n",
    "                               │       Start (Symptoms)      │\n",
    "                               └────────────┬────────────────┘\n",
    "                                            │\n",
    "       ┌────────────────────────────────────┼────────────────────────────────────┐\n",
    "       │                                    │                                    │\n",
    "High BP + Dizziness             Chest Pain + Radiating Pain + SOB        Palpitations + Dizziness\n",
    "       │                                    │                                    │\n",
    "Hypertension                  Myocardial Infarction (Heart Attack)            Arrhythmia\n",
    "\n",
    "       ┌────────────────────────────────────┼────────────────────────────────────┐\n",
    "       │                                    │                                    │\n",
    "Fatigue + Swelling + SOB        Chest Pain + Fatigue                 Chest Pain + Anxiety\n",
    "       │                                    │                                    │\n",
    "Heart Failure                 Coronary Artery Disease                         Angina\n",
    "\n",
    "       ┌────────────────────────────────────┼────────────────────────────────────┐\n",
    "       │                                    │                                    │\n",
    "Sharp Pain + Fever       SOB + Swelling + Palpitations         Chest Pain + Dizziness\n",
    "       │                                    │                                    │\n",
    "Pericarditis                     Cardiomyopathy                        Aortic Stenosis\n",
    "\n",
    "       ┌────────────────────────────────────┼────────────────────────────────────┐\n",
    "       │                                    │                                    │\n",
    "Fever + Heart Murmur        Palpitations + Anxiety     SOB + Fatigue + Heart Murmur\n",
    "       │                                    │                                    │\n",
    "Endocarditis                        Mitral Valve Prolapse      Congenital Heart Defect\n",
    "\n",
    "\n",
    "Each branch represents a combination of symptoms that leads the expert system to one of the 12 possible cardiology diagnoses.\n",
    "\n",
    "\n",
    "\n",
    "\n",
    "\n"
   ]
  },
  {
   "cell_type": "markdown",
   "id": "506f0597",
   "metadata": {},
   "source": [
    "### Hypertension\n",
    "\n",
    "This example shows how the expert system detects Hypertension using predefined facts. The system is built with the `experta` library and uses a simple rule: if the person has **high blood pressure** and feels **dizzy**, it prints a Hypertension diagnosis. Instead of asking the user, the symptoms are set directly in the code using Fact(...), which makes it easier to test and demonstrate in a notebook."
   ]
  },
  {
   "cell_type": "code",
   "execution_count": 1,
   "id": "cb1faf38",
   "metadata": {},
   "outputs": [
    {
     "name": "stdout",
     "output_type": "stream",
     "text": [
      "\n",
      "Diagnosis: Hypertension\n",
      "Source: https://www.mayoclinic.org/diseases-conditions/high-blood-pressure/symptoms-causes/syc-20373410\n"
     ]
    }
   ],
   "source": [
    "# Diagnosis: Hypertension\n",
    "\n",
    "from experta import *\n",
    "\n",
    "class HypertensionExpertSystem(KnowledgeEngine):\n",
    "\n",
    "    @DefFacts()\n",
    "    def _initial_action(self):\n",
    "        yield Fact(action=\"start_diagnosis\")\n",
    "\n",
    "    @Rule(Fact(high_blood_pressure=True), Fact(dizziness=True))\n",
    "    def diagnosis_hypertension(self):\n",
    "        \"\"\"\n",
    "        Diagnosis: Hypertension\n",
    "        Author: Víctor Ángel Martínez Vidaurri\n",
    "        Source: https://www.mayoclinic.org/diseases-conditions/high-blood-pressure/symptoms-causes/syc-20373410\n",
    "        \"\"\"\n",
    "        print(\"\\nDiagnosis: Hypertension\")\n",
    "        print(\"Source: https://www.mayoclinic.org/diseases-conditions/high-blood-pressure/symptoms-causes/syc-20373410\")\n",
    "        self.halt()\n",
    "\n",
    "# Run the expert system for Hypertension \n",
    "engine = HypertensionExpertSystem()\n",
    "engine.reset()\n",
    "engine.declare(Fact(high_blood_pressure=True))\n",
    "engine.declare(Fact(dizziness=True))\n",
    "engine.run()\n"
   ]
  },
  {
   "cell_type": "markdown",
   "id": "e807dd75",
   "metadata": {},
   "source": [
    "### Heart  (Myocardial Infarction)\n",
    "\n",
    "This example simulates a Heart Attack diagnosis. The system checks if the person has chest pain, shortness of breath, and pain that radiates to the arm, neck, or jaw. If these symptoms are present, the rule is triggered and the system prints the Heart Attack diagnosis. All symptoms are defined directly using Fact(...) to make testing clear and automatic in the notebook.\n",
    "\n"
   ]
  },
  {
   "cell_type": "code",
   "execution_count": 28,
   "id": "1061d6d4",
   "metadata": {},
   "outputs": [
    {
     "name": "stdout",
     "output_type": "stream",
     "text": [
      "\n",
      "Diagnosis: Myocardial Infarction (Heart Attack)\n",
      "Source: https://medlineplus.gov/heartattack.html\n"
     ]
    }
   ],
   "source": [
    "# Diagnosis: Heart Attack\n",
    "\n",
    "from experta import *\n",
    "\n",
    "class HeartAttackExpertSystem(KnowledgeEngine):\n",
    "\n",
    "    @DefFacts()\n",
    "    def _initial_action(self):\n",
    "        yield Fact(action=\"start_diagnosis\")\n",
    "\n",
    "    @Rule(Fact(chest_pain=True), Fact(radiating_pain=True), Fact(shortness_of_breath=True))\n",
    "    def diagnosis_heart_attack(self):\n",
    "        \"\"\"\n",
    "        Diagnosis: Myocardial Infarction (Heart Attack)\n",
    "        Author: Víctor Ángel Martínez Vidaurri\n",
    "        Source: https://medlineplus.gov/heartattack.html\n",
    "        \"\"\"\n",
    "        print(\"\\nDiagnosis: Myocardial Infarction (Heart Attack)\")\n",
    "        print(\"Source: https://medlineplus.gov/heartattack.html\")\n",
    "        import sys; sys.stdout.flush()\n",
    "        self.halt()\n",
    "\n",
    "# Run the expert system for Heart Attack\n",
    "engine = HeartAttackExpertSystem()\n",
    "engine.reset()\n",
    "engine.declare(Fact(chest_pain=True))\n",
    "engine.declare(Fact(radiating_pain=True))\n",
    "engine.declare(Fact(shortness_of_breath=True))\n",
    "engine.run()\n"
   ]
  },
  {
   "cell_type": "markdown",
   "id": "42f69245",
   "metadata": {},
   "source": [
    "\n",
    "### Arrhythmia\n",
    "\n",
    "This example simulates a diagnosis of Arrhythmia. The system checks for two main symptoms: palpitations and dizziness. If both are present, the rule is activated and the system prints the diagnosis. These symptoms are directly declared using Fact(...) for a clear and automatic demonstration in the notebook.\n",
    "\n"
   ]
  },
  {
   "cell_type": "code",
   "execution_count": 27,
   "id": "934dd442",
   "metadata": {},
   "outputs": [
    {
     "name": "stdout",
     "output_type": "stream",
     "text": [
      "\n",
      "Diagnosis: Arrhythmia\n",
      "Source: https://medlineplus.gov/arrhythmia.html\n"
     ]
    }
   ],
   "source": [
    "# Diagnosis: Arrhythmia\n",
    "\n",
    "from experta import *\n",
    "\n",
    "class ArrhythmiaExpertSystem(KnowledgeEngine):\n",
    "\n",
    "    @DefFacts()\n",
    "    def _initial_action(self):\n",
    "        yield Fact(action=\"start_diagnosis\")\n",
    "\n",
    "    @Rule(Fact(palpitations=True), Fact(dizziness=True))\n",
    "    def diagnosis_arrhythmia(self):\n",
    "        \"\"\"\n",
    "        Diagnosis: Arrhythmia\n",
    "        Author: Víctor Ángel Martínez Vidaurri\n",
    "        Source: https://medlineplus.gov/arrhythmia.html\n",
    "        \"\"\"\n",
    "        print(\"\\nDiagnosis: Arrhythmia\")\n",
    "        print(\"Source: https://medlineplus.gov/arrhythmia.html\")\n",
    "        import sys; sys.stdout.flush()\n",
    "        self.halt()\n",
    "\n",
    "# Run the expert system for Arrhythmia \n",
    "engine = ArrhythmiaExpertSystem()\n",
    "engine.reset()\n",
    "engine.declare(Fact(palpitations=True))\n",
    "engine.declare(Fact(dizziness=True))\n",
    "engine.run()\n"
   ]
  },
  {
   "cell_type": "markdown",
   "id": "0cd01f11",
   "metadata": {},
   "source": [
    "### Heart Failure\n",
    "\n",
    "This example simulates a diagnosis of Heart Failure. The system looks for three symptoms: shortness of breath, fatigue, and swelling in the legs or feet. If all three are present, the rule triggers and the system prints the Heart Failure diagnosis. The facts are set directly using Fact(...) to keep the demo clear and easy to follow in the notebook.\n",
    "\n"
   ]
  },
  {
   "cell_type": "code",
   "execution_count": 30,
   "id": "9508baf9",
   "metadata": {},
   "outputs": [
    {
     "name": "stdout",
     "output_type": "stream",
     "text": [
      "\n",
      "Diagnosis: Heart Failure\n",
      "Source: https://medlineplus.gov/heartfailure.html\n"
     ]
    }
   ],
   "source": [
    "# Diagnosis: Heart Failure\n",
    "\n",
    "from experta import *\n",
    "\n",
    "class HeartFailureExpertSystem(KnowledgeEngine):\n",
    "\n",
    "    @DefFacts()\n",
    "    def _initial_action(self):\n",
    "        yield Fact(action=\"start_diagnosis\")\n",
    "\n",
    "    @Rule(Fact(fatigue=True), Fact(swelling=True), Fact(shortness_of_breath=True))\n",
    "    def diagnosis_heart_failure(self):\n",
    "        \"\"\"\n",
    "        Diagnosis: Heart Failure\n",
    "        Author: Alan Ulises Luna Hernández\n",
    "        Source: https://medlineplus.gov/heartfailure.html\n",
    "        \"\"\"\n",
    "        print(\"\\nDiagnosis: Heart Failure\")\n",
    "        print(\"Source: https://medlineplus.gov/heartfailure.html\")\n",
    "        import sys; sys.stdout.flush()\n",
    "        self.halt()\n",
    "\n",
    "# Run the expert system for Heart Failure\n",
    "engine = HeartFailureExpertSystem()\n",
    "engine.reset()\n",
    "engine.declare(Fact(fatigue=True))\n",
    "engine.declare(Fact(swelling=True))\n",
    "engine.declare(Fact(shortness_of_breath=True))\n",
    "engine.run()\n"
   ]
  },
  {
   "cell_type": "markdown",
   "id": "c41d6cfc",
   "metadata": {},
   "source": [
    "### Coronary Artery Disease\n",
    "\n",
    "This example simulates a diagnosis of Coronary Artery Disease. The system checks for two symptoms: chest pain and fatigue. If both are declared as present, the rule is triggered and the system outputs the diagnosis. Using Fact(...) makes this process easy to simulate and verify within the notebook.\n",
    "\n"
   ]
  },
  {
   "cell_type": "code",
   "execution_count": 31,
   "id": "9eb90d79",
   "metadata": {},
   "outputs": [
    {
     "name": "stdout",
     "output_type": "stream",
     "text": [
      "\n",
      "Diagnosis: Coronary Artery Disease\n",
      "Source: https://www.mayoclinic.org/diseases-conditions/coronary-artery-disease/symptoms-causes/syc-20350613\n"
     ]
    }
   ],
   "source": [
    "# Diagnosis: Coronary Artery Disease\n",
    "\n",
    "from experta import *\n",
    "\n",
    "class CoronaryArteryDiseaseExpertSystem(KnowledgeEngine):\n",
    "\n",
    "    @DefFacts()\n",
    "    def _initial_action(self):\n",
    "        yield Fact(action=\"start_diagnosis\")\n",
    "\n",
    "    @Rule(Fact(chest_pain=True), Fact(fatigue=True))\n",
    "    def diagnosis_coronary_artery_disease(self):\n",
    "        \"\"\"\n",
    "        Diagnosis: Coronary Artery Disease\n",
    "        Author: Alan Ulises Luna Hernández\n",
    "        Source: https://www.mayoclinic.org/diseases-conditions/coronary-artery-disease/symptoms-causes/syc-20350613\n",
    "        \"\"\"\n",
    "        print(\"\\nDiagnosis: Coronary Artery Disease\")\n",
    "        print(\"Source: https://www.mayoclinic.org/diseases-conditions/coronary-artery-disease/symptoms-causes/syc-20350613\")\n",
    "        import sys; sys.stdout.flush()\n",
    "        self.halt()\n",
    "\n",
    "# Run the expert system for Coronary Artery Disease\n",
    "engine = CoronaryArteryDiseaseExpertSystem()\n",
    "engine.reset()\n",
    "engine.declare(Fact(chest_pain=True))\n",
    "engine.declare(Fact(fatigue=True))\n",
    "engine.run()\n"
   ]
  },
  {
   "cell_type": "markdown",
   "id": "734242f6",
   "metadata": {},
   "source": [
    "### Angina\n",
    "\n",
    "This example simulates a diagnosis of Angina. The system checks for two symptoms: chest pain and anxiety. If both are present, the rule is activated and the diagnosis is printed. Using Fact(...) allows for quick and reliable simulation.\n",
    "\n"
   ]
  },
  {
   "cell_type": "code",
   "execution_count": 33,
   "id": "372c758a",
   "metadata": {},
   "outputs": [
    {
     "name": "stdout",
     "output_type": "stream",
     "text": [
      "\n",
      "Diagnosis: Angina\n",
      "Source: https://www.mayoclinic.org/diseases-conditions/angina/symptoms-causes/syc-20369373\n"
     ]
    }
   ],
   "source": [
    "# Diagnosis: Angina\n",
    "\n",
    "from experta import *\n",
    "\n",
    "class AnginaExpertSystem(KnowledgeEngine):\n",
    "\n",
    "    @DefFacts()\n",
    "    def _initial_action(self):\n",
    "        yield Fact(action=\"start_diagnosis\")\n",
    "\n",
    "    @Rule(Fact(chest_pain=True), Fact(anxiety=True))\n",
    "    def diagnosis_angina(self):\n",
    "        \"\"\"\n",
    "        Diagnosis: Angina\n",
    "        Author: Alan Ulises Luna Hernández\n",
    "        Source: https://www.mayoclinic.org/diseases-conditions/angina/symptoms-causes/syc-20369373\n",
    "        \"\"\"\n",
    "        print(\"\\nDiagnosis: Angina\")\n",
    "        print(\"Source: https://www.mayoclinic.org/diseases-conditions/angina/symptoms-causes/syc-20369373\")\n",
    "        import sys; sys.stdout.flush()\n",
    "        self.halt()\n",
    "\n",
    "# Run the expert system for Angina \n",
    "engine = AnginaExpertSystem()\n",
    "engine.reset()\n",
    "engine.declare(Fact(chest_pain=True))\n",
    "engine.declare(Fact(anxiety=True))\n",
    "engine.run()\n"
   ]
  },
  {
   "cell_type": "markdown",
   "id": "085686f9",
   "metadata": {},
   "source": [
    "### Pericarditis\n",
    "\n",
    "This example simulates a diagnosis of Pericarditis. The system checks for two symptoms: sharp chest pain that worsens when lying down and fever. If both symptoms are true, the rule activates and prints the diagnosis. This is done using direct Fact(...) declarations, which ensures consistent behavior inside the notebook.\n",
    "\n"
   ]
  },
  {
   "cell_type": "code",
   "execution_count": 34,
   "id": "0f53dfe3",
   "metadata": {},
   "outputs": [
    {
     "name": "stdout",
     "output_type": "stream",
     "text": [
      "\n",
      "Diagnosis: Pericarditis\n",
      "Source: https://medlineplus.gov/ency/article/000166.htm\n"
     ]
    }
   ],
   "source": [
    "# Diagnosis: Pericarditis\n",
    "\n",
    "from experta import *\n",
    "\n",
    "class PericarditisExpertSystem(KnowledgeEngine):\n",
    "\n",
    "    @DefFacts()\n",
    "    def _initial_action(self):\n",
    "        yield Fact(action=\"start_diagnosis\")\n",
    "\n",
    "    @Rule(Fact(sharp_pain=True), Fact(fever=True))\n",
    "    def diagnosis_pericarditis(self):\n",
    "        \"\"\"\n",
    "        Diagnosis: Pericarditis\n",
    "        Author: Ricardo Villareal Bazán\n",
    "        Source: https://medlineplus.gov/ency/article/000166.htm\n",
    "        \"\"\"\n",
    "        print(\"\\nDiagnosis: Pericarditis\")\n",
    "        print(\"Source: https://medlineplus.gov/ency/article/000166.htm\")\n",
    "        import sys; sys.stdout.flush()\n",
    "        self.halt()\n",
    "\n",
    "# Run the expert system for Pericarditis \n",
    "engine = PericarditisExpertSystem()\n",
    "engine.reset()\n",
    "engine.declare(Fact(sharp_pain=True))\n",
    "engine.declare(Fact(fever=True))\n",
    "engine.run()\n"
   ]
  },
  {
   "cell_type": "markdown",
   "id": "8a37e7d5",
   "metadata": {},
   "source": [
    "### Cardiomyopathy\n",
    "\n",
    "This example simulates a diagnosis of Cardiomyopathy. The system checks for three symptoms: shortness of breath, swelling in the legs or feet, and palpitations. When all three are present, the system triggers the rule and prints the diagnosis. Using Fact(...) helps clearly show how the decision is made in the notebook.\n",
    "\n"
   ]
  },
  {
   "cell_type": "code",
   "execution_count": 35,
   "id": "d7610302",
   "metadata": {},
   "outputs": [
    {
     "name": "stdout",
     "output_type": "stream",
     "text": [
      "\n",
      "Diagnosis: Cardiomyopathy\n",
      "Source: https://www.mayoclinic.org/diseases-conditions/cardiomyopathy/symptoms-causes/syc-20370709\n"
     ]
    }
   ],
   "source": [
    "# Diagnosis: Cardiomyopathy\n",
    "\n",
    "from experta import *\n",
    "\n",
    "class CardiomyopathyExpertSystem(KnowledgeEngine):\n",
    "\n",
    "    @DefFacts()\n",
    "    def _initial_action(self):\n",
    "        yield Fact(action=\"start_diagnosis\")\n",
    "\n",
    "    @Rule(Fact(shortness_of_breath=True), Fact(swelling=True), Fact(palpitations=True))\n",
    "    def diagnosis_cardiomyopathy(self):\n",
    "        \"\"\"\n",
    "        Diagnosis: Cardiomyopathy\n",
    "        Author: Ricardo Villareal Bazán\n",
    "        Source: https://www.mayoclinic.org/diseases-conditions/cardiomyopathy/symptoms-causes/syc-20370709\n",
    "        \"\"\"\n",
    "        print(\"\\nDiagnosis: Cardiomyopathy\")\n",
    "        print(\"Source: https://www.mayoclinic.org/diseases-conditions/cardiomyopathy/symptoms-causes/syc-20370709\")\n",
    "        import sys; sys.stdout.flush()\n",
    "        self.halt()\n",
    "\n",
    "# Run the expert system for Cardiomyopathy \n",
    "engine = CardiomyopathyExpertSystem()\n",
    "engine.reset()\n",
    "engine.declare(Fact(shortness_of_breath=True))\n",
    "engine.declare(Fact(swelling=True))\n",
    "engine.declare(Fact(palpitations=True))\n",
    "engine.run()\n"
   ]
  },
  {
   "cell_type": "markdown",
   "id": "eb2057d9",
   "metadata": {},
   "source": [
    "### Aortic Stenosis\n",
    "\n",
    "This example simulates a diagnosis of Aortic Stenosis. The system checks for two symptoms: chest pain and dizziness. If both are true, the rule is triggered and the system prints the diagnosis. The use of Fact(...) makes it clear which symptoms are being tested and allows for reliable demonstration inside the notebook.\n",
    "\n"
   ]
  },
  {
   "cell_type": "code",
   "execution_count": 36,
   "id": "f5c4ab49",
   "metadata": {},
   "outputs": [
    {
     "name": "stdout",
     "output_type": "stream",
     "text": [
      "\n",
      "Diagnosis: Aortic Stenosis\n",
      "Source: https://medlineplus.gov/ency/article/000178.htm\n"
     ]
    }
   ],
   "source": [
    "# Diagnosis: Aortic Stenosis\n",
    "\n",
    "from experta import *\n",
    "\n",
    "class AorticStenosisExpertSystem(KnowledgeEngine):\n",
    "\n",
    "    @DefFacts()\n",
    "    def _initial_action(self):\n",
    "        yield Fact(action=\"start_diagnosis\")\n",
    "\n",
    "    @Rule(Fact(chest_pain=True), Fact(dizziness=True))\n",
    "    def diagnosis_aortic_stenosis(self):\n",
    "        \"\"\"\n",
    "        Diagnosis: Aortic Stenosis\n",
    "        Author: Ricardo Villareal Bazán\n",
    "        Source: https://medlineplus.gov/ency/article/000178.htm\n",
    "        \"\"\"\n",
    "        print(\"\\nDiagnosis: Aortic Stenosis\")\n",
    "        print(\"Source: https://medlineplus.gov/ency/article/000178.htm\")\n",
    "        import sys; sys.stdout.flush()\n",
    "        self.halt()\n",
    "\n",
    "# Run the expert system for Aortic Stenosis\n",
    "engine = AorticStenosisExpertSystem()\n",
    "engine.reset()\n",
    "engine.declare(Fact(chest_pain=True))\n",
    "engine.declare(Fact(dizziness=True))\n",
    "engine.run()\n"
   ]
  },
  {
   "cell_type": "markdown",
   "id": "513f468c",
   "metadata": {},
   "source": [
    "### Endocarditis\n",
    "\n",
    "This example simulates a diagnosis of Endocarditis. The system checks for two symptoms: fever and the presence of a heart murmur. When both symptoms are declared as true, the system matches the rule and prints the diagnosis. Declaring symptoms with Fact(...) makes the behavior easy to test and visualize in the notebook.\n",
    "\n"
   ]
  },
  {
   "cell_type": "code",
   "execution_count": 37,
   "id": "9f1af87b",
   "metadata": {},
   "outputs": [
    {
     "name": "stdout",
     "output_type": "stream",
     "text": [
      "\n",
      "Diagnosis: Endocarditis\n",
      "Source: https://medlineplus.gov/endocarditis.html\n"
     ]
    }
   ],
   "source": [
    "# Diagnosis: Endocarditis\n",
    "\n",
    "from experta import *\n",
    "\n",
    "class EndocarditisExpertSystem(KnowledgeEngine):\n",
    "\n",
    "    @DefFacts()\n",
    "    def _initial_action(self):\n",
    "        yield Fact(action=\"start_diagnosis\")\n",
    "\n",
    "    @Rule(Fact(fever=True), Fact(murmur=True))\n",
    "    def diagnosis_endocarditis(self):\n",
    "        \"\"\"\n",
    "        Diagnosis: Endocarditis\n",
    "        Author: Uziel Heredia Estrada\n",
    "        Source: https://medlineplus.gov/endocarditis.html\n",
    "        \"\"\"\n",
    "        print(\"\\nDiagnosis: Endocarditis\")\n",
    "        print(\"Source: https://medlineplus.gov/endocarditis.html\")\n",
    "        import sys; sys.stdout.flush()\n",
    "        self.halt()\n",
    "\n",
    "# Run the expert system for Endocarditis\n",
    "engine = EndocarditisExpertSystem()\n",
    "engine.reset()\n",
    "engine.declare(Fact(fever=True))\n",
    "engine.declare(Fact(murmur=True))\n",
    "engine.run()\n"
   ]
  },
  {
   "cell_type": "markdown",
   "id": "ea69bb80",
   "metadata": {},
   "source": [
    "### Mitral Valve Prolapse\n",
    "\n",
    "This example simulates a diagnosis of Mitral Valve Prolapse. The system looks for two symptoms: palpitations and anxiety. If both conditions are declared true using Fact(...), the expert system activates the rule and prints the diagnosis. This structure makes it easy to demonstrate how the system works inside a notebook.\n",
    "\n"
   ]
  },
  {
   "cell_type": "code",
   "execution_count": 38,
   "id": "980bd829",
   "metadata": {},
   "outputs": [
    {
     "name": "stdout",
     "output_type": "stream",
     "text": [
      "\n",
      "Diagnosis: Mitral Valve Prolapse\n",
      "Source: https://www.mayoclinic.org/diseases-conditions/mitral-valve-prolapse/symptoms-causes/syc-20355446\n"
     ]
    }
   ],
   "source": [
    "# Diagnosis: Mitral Valve Prolapse\n",
    "\n",
    "from experta import *\n",
    "\n",
    "class MitralValveProlapseExpertSystem(KnowledgeEngine):\n",
    "\n",
    "    @DefFacts()\n",
    "    def _initial_action(self):\n",
    "        yield Fact(action=\"start_diagnosis\")\n",
    "\n",
    "    @Rule(Fact(palpitations=True), Fact(anxiety=True))\n",
    "    def diagnosis_mitral_valve_prolapse(self):\n",
    "        \"\"\"\n",
    "        Diagnosis: Mitral Valve Prolapse\n",
    "        Author: Uziel Heredia Estrada\n",
    "        Source: https://www.mayoclinic.org/diseases-conditions/mitral-valve-prolapse/symptoms-causes/syc-20355446\n",
    "        \"\"\"\n",
    "        print(\"\\nDiagnosis: Mitral Valve Prolapse\")\n",
    "        print(\"Source: https://www.mayoclinic.org/diseases-conditions/mitral-valve-prolapse/symptoms-causes/syc-20355446\")\n",
    "        import sys; sys.stdout.flush()\n",
    "        self.halt()\n",
    "\n",
    "# Run the expert system for Mitral Valve Prolapse \n",
    "engine = MitralValveProlapseExpertSystem()\n",
    "engine.reset()\n",
    "engine.declare(Fact(palpitations=True))\n",
    "engine.declare(Fact(anxiety=True))\n",
    "engine.run()\n"
   ]
  },
  {
   "cell_type": "markdown",
   "id": "b59bff33",
   "metadata": {},
   "source": [
    "### Congenital Heart Defect\n",
    "\n",
    "This example simulates a diagnosis of Congenital Heart Defect. The system looks for three symptoms: shortness of breath, fatigue, and a heart murmur. When all three are present, the rule activates and prints the diagnosis. Using Fact(...) keeps the logic transparent and ideal for notebook demonstrations.\n",
    "\n"
   ]
  },
  {
   "cell_type": "code",
   "execution_count": 39,
   "id": "f9df6c92",
   "metadata": {},
   "outputs": [
    {
     "name": "stdout",
     "output_type": "stream",
     "text": [
      "\n",
      "Diagnosis: Congenital Heart Defect\n",
      "Source: https://www.mayoclinic.org/diseases-conditions/adult-congenital-heart-disease/symptoms-causes/syc-20355456\n"
     ]
    }
   ],
   "source": [
    "# Diagnosis: Congenital Heart Defect\n",
    "\n",
    "from experta import *\n",
    "\n",
    "class CongenitalHeartDefectExpertSystem(KnowledgeEngine):\n",
    "\n",
    "    @DefFacts()\n",
    "    def _initial_action(self):\n",
    "        yield Fact(action=\"start_diagnosis\")\n",
    "\n",
    "    @Rule(Fact(shortness_of_breath=True), Fact(fatigue=True), Fact(murmur=True))\n",
    "    def diagnosis_congenital_heart_defect(self):\n",
    "        \"\"\"\n",
    "        Diagnosis: Congenital Heart Defect\n",
    "        Author: Uziel Heredia Estrada\n",
    "        Source: https://www.mayoclinic.org/diseases-conditions/adult-congenital-heart-disease/symptoms-causes/syc-20355456\n",
    "        \"\"\"\n",
    "        print(\"\\nDiagnosis: Congenital Heart Defect\")\n",
    "        print(\"Source: https://www.mayoclinic.org/diseases-conditions/adult-congenital-heart-disease/symptoms-causes/syc-20355456\")\n",
    "        import sys; sys.stdout.flush()\n",
    "        self.halt()\n",
    "\n",
    "# Run the expert system for Congenital Heart Defect \n",
    "engine = CongenitalHeartDefectExpertSystem()\n",
    "engine.reset()\n",
    "engine.declare(Fact(shortness_of_breath=True))\n",
    "engine.declare(Fact(fatigue=True))\n",
    "engine.declare(Fact(murmur=True))\n",
    "engine.run()\n"
   ]
  },
  {
   "cell_type": "markdown",
   "id": "11c36cc7",
   "metadata": {},
   "source": [
    "## References \n",
    "\n",
    "- Mayo Clinic. (n.d.). *High blood pressure (hypertension)*. Mayo Foundation for Medical Education and Research. https://www.mayoclinic.org/diseases-conditions/high-blood-pressure/symptoms-causes/syc-20373410\n",
    "\n",
    "- MedlinePlus. (n.d.). *Heart attack*. U.S. National Library of Medicine. https://medlineplus.gov/heartattack.html\n",
    "\n",
    "- MedlinePlus. (n.d.). *Arrhythmia*. U.S. National Library of Medicine. https://medlineplus.gov/arrhythmia.html\n",
    "\n",
    "- MedlinePlus. (n.d.). *Heart failure*. U.S. National Library of Medicine. https://medlineplus.gov/heartfailure.html\n",
    "\n",
    "- Mayo Clinic. (n.d.). *Coronary artery disease*. Mayo Foundation for Medical Education and Research. https://www.mayoclinic.org/diseases-conditions/coronary-artery-disease/symptoms-causes/syc-20350613\n",
    "\n",
    "- Mayo Clinic. (n.d.). *Angina*. Mayo Foundation for Medical Education and Research. https://www.mayoclinic.org/diseases-conditions/angina/symptoms-causes/syc-20369373\n",
    "\n",
    "- MedlinePlus. (n.d.). *Pericarditis*. U.S. National Library of Medicine. https://medlineplus.gov/ency/article/000166.htm\n",
    "\n",
    "- Mayo Clinic. (n.d.). *Cardiomyopathy*. Mayo Foundation for Medical Education and Research. https://www.mayoclinic.org/diseases-conditions/cardiomyopathy/symptoms-causes/syc-20370709\n",
    "\n",
    "- MedlinePlus. (n.d.). *Aortic stenosis*. U.S. National Library of Medicine. https://medlineplus.gov/ency/article/000178.htm\n",
    "\n",
    "- MedlinePlus. (n.d.). *Endocarditis*. U.S. National Library of Medicine. https://medlineplus.gov/endocarditis.html\n",
    "\n",
    "- Mayo Clinic. (n.d.). *Mitral valve prolapse*. Mayo Foundation for Medical Education and Research. https://www.mayoclinic.org/diseases-conditions/mitral-valve-prolapse/symptoms-causes/syc-20355446\n",
    "\n",
    "- Mayo Clinic. (n.d.). *Adult congenital heart disease*. Mayo Foundation for Medical Education and Research. https://www.mayoclinic.org/diseases-conditions/adult-congenital-heart-disease/symptoms-causes/syc-20355456\n"
   ]
  },
  {
   "cell_type": "markdown",
   "id": "62fa33f5",
   "metadata": {},
   "source": []
  }
 ],
 "metadata": {
  "kernelspec": {
   "display_name": "Python 3",
   "language": "python",
   "name": "python3"
  },
  "language_info": {
   "codemirror_mode": {
    "name": "ipython",
    "version": 3
   },
   "file_extension": ".py",
   "mimetype": "text/x-python",
   "name": "python",
   "nbconvert_exporter": "python",
   "pygments_lexer": "ipython3",
   "version": "3.12.5"
  }
 },
 "nbformat": 4,
 "nbformat_minor": 5
}
